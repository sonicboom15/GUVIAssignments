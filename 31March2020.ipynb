{
 "cells": [
  {
   "cell_type": "markdown",
   "metadata": {},
   "source": [
    "### Task 1\n",
    "\n",
    "Consider a heterogeneous nested list of size N. Find the number of sub lists present in that nested list then find the sub list with maximum length and its index value\n",
    "\n",
    "Eventually find the first element's index in that sublist having maximum length"
   ]
  },
  {
   "cell_type": "code",
   "execution_count": 14,
   "metadata": {},
   "outputs": [
    {
     "name": "stdout",
     "output_type": "stream",
     "text": [
      "Enter the number of elements in the list:9\n",
      "3\n",
      "5\n",
      "3 56\n",
      "3\n",
      "3 7 zen 4.6\n",
      "guvi\n",
      "5\n",
      "2\n",
      "pit\n"
     ]
    }
   ],
   "source": [
    "numlen = int(input(\"Enter the number of elements in the list:\"))\n",
    "lister = [] #Initailizing the List\n",
    "for i in range(numlen):  #Getting input from the user\n",
    "    elememts = list(map(str,input().split()))\n",
    "    lister.append(elememts)"
   ]
  },
  {
   "cell_type": "code",
   "execution_count": 32,
   "metadata": {},
   "outputs": [
    {
     "name": "stdout",
     "output_type": "stream",
     "text": [
      "[['3'], ['5'], ['3', '56'], ['3'], ['3', '7', 'zen', '4.6'], ['guvi'], ['5'], ['2'], ['pit']]\n"
     ]
    }
   ],
   "source": [
    "import operator\n",
    "print(lister)"
   ]
  },
  {
   "cell_type": "code",
   "execution_count": 29,
   "metadata": {},
   "outputs": [
    {
     "name": "stdout",
     "output_type": "stream",
     "text": [
      "Index Value is  4\n",
      "Element is  3\n"
     ]
    }
   ],
   "source": [
    "bigIndex = 0\n",
    "bigLength = 0\n",
    "for x in lister:\n",
    "    if bigLength < (len(x)):\n",
    "        bigLength = len(x)\n",
    "        bigIndex = lister.index(x)\n",
    "print(\"Index Value is \",bigIndex)\n",
    "print(\"Element is \",lister[bigIndex][0])"
   ]
  },
  {
   "cell_type": "markdown",
   "metadata": {},
   "source": [
    "### Task 2\n",
    "Create a dictionary with the keys and values with\n",
    "keys = ['a', 'b', 'c']\n",
    "values = (1, 2, 3)       # you can use dictionary comprehensions as well to create it"
   ]
  },
  {
   "cell_type": "code",
   "execution_count": 30,
   "metadata": {},
   "outputs": [],
   "source": [
    "keys = ['a','b','c']\n",
    "values = [1,2,3]\n",
    "Dictionary = dict(zip(keys, values))"
   ]
  },
  {
   "cell_type": "code",
   "execution_count": 31,
   "metadata": {},
   "outputs": [
    {
     "name": "stdout",
     "output_type": "stream",
     "text": [
      "{'b': 2, 'a': 1, 'c': 3}\n"
     ]
    }
   ],
   "source": [
    "print(Dictionary)"
   ]
  },
  {
   "cell_type": "markdown",
   "metadata": {},
   "source": [
    "### Task 3\n",
    "Write a Python function that will create and return a dictionary from another dictionary, but sorted by value. You can assume the values are all comparable and have a natural sort order."
   ]
  },
  {
   "cell_type": "code",
   "execution_count": 33,
   "metadata": {},
   "outputs": [],
   "source": [
    "def dicsortie(dic):\n",
    "    return sorted(dic.items(), key=operator.itemgetter(1))"
   ]
  },
  {
   "cell_type": "code",
   "execution_count": 35,
   "metadata": {},
   "outputs": [
    {
     "data": {
      "text/plain": [
       "[('a', 1), ('b', 2), ('c', 3)]"
      ]
     },
     "execution_count": 35,
     "metadata": {},
     "output_type": "execute_result"
    }
   ],
   "source": [
    "dicsortie(Dictionary)"
   ]
  },
  {
   "cell_type": "code",
   "execution_count": null,
   "metadata": {},
   "outputs": [],
   "source": []
  }
 ],
 "metadata": {
  "kernelspec": {
   "display_name": "Python 3",
   "language": "python",
   "name": "python3"
  },
  "language_info": {
   "codemirror_mode": {
    "name": "ipython",
    "version": 3
   },
   "file_extension": ".py",
   "mimetype": "text/x-python",
   "name": "python",
   "nbconvert_exporter": "python",
   "pygments_lexer": "ipython3",
   "version": "3.5.6"
  }
 },
 "nbformat": 4,
 "nbformat_minor": 2
}
