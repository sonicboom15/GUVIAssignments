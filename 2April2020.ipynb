{
 "cells": [
  {
   "cell_type": "markdown",
   "metadata": {},
   "source": [
    "### Function to revise the Salary\n",
    "This function accepts a dictionary with the employee and modifies the data."
   ]
  },
  {
   "cell_type": "code",
   "execution_count": 22,
   "metadata": {},
   "outputs": [],
   "source": [
    "def SalaryRevision(data): #Driver Function\n",
    "    check = True\n",
    "    while(check):\n",
    "        print(\"Which Salary should be revised:\\n1.Designation based\\n2.Department based\\n3.All Sales\\n4.All Support\\n5.Exit\")\n",
    "        choice = int(input())\n",
    "        if(choice==1):\n",
    "            dept = input(\"Which department is to be revised?\")\n",
    "            increase = int(input(\"How much increase in %\"))\n",
    "            for x in data:\n",
    "                if(x[\"dept\"]==dept and x[\"designation\"]!=\"Intern\"):\n",
    "                    x[\"salary\"] = int(x[\"salary\"] + (x[\"salary\"]*(increase/100)))\n",
    "            PrintDict(data)\n",
    "        elif(choice==2):\n",
    "            designation = input(\"Which designation is to be revised? \")\n",
    "            increase = int(input(\"How much increase in % \"))\n",
    "            for x in data:\n",
    "                if(x[\"designation\"]==designation and x[\"designation\"]!=\"Intern\"):\n",
    "                    x[\"salary\"] = int(x[\"salary\"] + (x[\"salary\"]*(increase/100)))\n",
    "            PrintDict(data)\n",
    "        elif(choice==3):\n",
    "            increase = int(input(\"How much increase in % \"))\n",
    "            for x in data:\n",
    "                if(x[\"designation\"]==\"sales\" and x[\"designation\"]!=\"Intern\"):\n",
    "                    x[\"salary\"] = int(x[\"salary\"] + (x[\"salary\"]*(increase/100)))\n",
    "            PrintDict(data)\n",
    "        elif(choice==4):\n",
    "            increase = int(input(\"How much increase in % \"))\n",
    "            for x in data:\n",
    "                if(x[\"designation\"]==\"support\" and x[\"designation\"]!=\"Intern\"):\n",
    "                    x[\"salary\"] = int(x[\"salary\"] + (x[\"salary\"]*(increase/100)))\n",
    "            PrintDict(data)\n",
    "        elif(choice==5):\n",
    "            check = False\n",
    "            PrintDict(data)\n",
    "        else:\n",
    "            print(\"Please select proper choice\")"
   ]
  },
  {
   "cell_type": "code",
   "execution_count": 23,
   "metadata": {},
   "outputs": [],
   "source": [
    "def PrintDict(data):\n",
    "    print (\"{:<10} {:<10} {:<10} {:<10} {:<10}\".format('Age', 'Department', 'Salary', 'Designation', 'Name')) \n",
    "    for x in data:\n",
    "        print (\"{:<10} {:<10} {:<10} {:<10} {:<10}\".format(x[\"age\"], x[\"dept\"], x[\"salary\"], x[\"designation\"], x[\"name\"]))"
   ]
  },
  {
   "cell_type": "code",
   "execution_count": 3,
   "metadata": {},
   "outputs": [
    {
     "name": "stdout",
     "output_type": "stream",
     "text": [
      "Age        Department Salary     Designation Name      \n",
      "25         engineering 138000     DB Engineer ramesh    \n",
      "23         engineering 368000     Architect  leena     \n",
      "30         sales      60000      Sales Officer sherlock  \n",
      "40         sales      100000     VP         lestrade  \n",
      "35         support    200000     VP         bean      \n",
      "20         hr         5000       Intern     stapleton \n",
      "Which Salary should be revised:\n",
      "1.Designation based\n",
      "2.Department based\n",
      "3.All Sales\n",
      "4.All Support\n",
      "5.Exit\n",
      "1\n",
      "Which department is to be revised?engineering\n",
      "How much increase in %15\n",
      "Age        Department Salary     Designation Name      \n",
      "25         engineering 158700     DB Engineer ramesh    \n",
      "23         engineering 423200     Architect  leena     \n",
      "30         sales      60000      Sales Officer sherlock  \n",
      "40         sales      100000     VP         lestrade  \n",
      "35         support    200000     VP         bean      \n",
      "20         hr         5000       Intern     stapleton \n",
      "Which Salary should be revised:\n",
      "1.Designation based\n",
      "2.Department based\n",
      "3.All Sales\n",
      "4.All Support\n",
      "5.Exit\n",
      "5\n",
      "Age        Department Salary     Designation Name      \n",
      "25         engineering 158700     DB Engineer ramesh    \n",
      "23         engineering 423200     Architect  leena     \n",
      "30         sales      60000      Sales Officer sherlock  \n",
      "40         sales      100000     VP         lestrade  \n",
      "35         support    200000     VP         bean      \n",
      "20         hr         5000       Intern     stapleton \n"
     ]
    }
   ],
   "source": [
    "import json #Import Data via Json\n",
    "with open('SupportFiles/2April2020/data.json') as file:\n",
    "    data = json.load(file)\n",
    "    PrintDict(data)\n",
    "    SalaryRevision(data)\n",
    "with open('SupportFiles/2April2020/data.json', 'w') as file:\n",
    "  json.dump(data, file)"
   ]
  },
  {
   "cell_type": "code",
   "execution_count": 21,
   "metadata": {},
   "outputs": [
    {
     "name": "stdout",
     "output_type": "stream",
     "text": [
      "Age        Department Salary     Designation Name      \n",
      "25         engineering 120000     DB Engineer ramesh    \n",
      "23         engineering 320000     Architect  leena     \n",
      "30         sales      60000      Sales Officer sherlock  \n",
      "40         sales      100000     VP         lestrade  \n",
      "35         support    200000     VP         bean      \n",
      "20         hr         5000       Intern     stapleton \n",
      "Which Salary should be revised:\n",
      "1.Designation based\n",
      "2.Department based\n",
      "3.All Sales\n",
      "4.All Support\n",
      "5.Exit\n",
      "2\n",
      "Which designation is to be revised? VP\n",
      "How much increase in % 15\n",
      "Age        Department Salary     Designation Name      \n",
      "25         engineering 120000     DB Engineer ramesh    \n",
      "23         engineering 320000     Architect  leena     \n",
      "30         sales      60000      Sales Officer sherlock  \n",
      "40         sales      115000.0   VP         lestrade  \n",
      "35         support    230000.0   VP         bean      \n",
      "20         hr         5000       Intern     stapleton \n",
      "Which Salary should be revised:\n",
      "1.Designation based\n",
      "2.Department based\n",
      "3.All Sales\n",
      "4.All Support\n",
      "5.Exit\n",
      "5\n",
      "Age        Department Salary     Designation Name      \n",
      "25         engineering 120000     DB Engineer ramesh    \n",
      "23         engineering 320000     Architect  leena     \n",
      "30         sales      60000      Sales Officer sherlock  \n",
      "40         sales      115000.0   VP         lestrade  \n",
      "35         support    230000.0   VP         bean      \n",
      "20         hr         5000       Intern     stapleton \n"
     ]
    }
   ],
   "source": [
    "import csv\n",
    "with open('SupportFiles/2April2020/result.csv') as fh:\n",
    "    reader = csv.DictReader(fh, delimiter=',')\n",
    "    data = []\n",
    "    for x in reader:\n",
    "        data.append(x)\n",
    "    for x in data:\n",
    "        x[\"salary\"] = int(x[\"salary\"])\n",
    "    PrintDict(data)\n",
    "    SalaryRevision(data)\n",
    "    fields = ['age', 'dept', 'salary', 'designation', 'name']\n",
    "with open('SupportFiles/2April2020/result.csv', 'w') as fh: \n",
    "    writer = csv.DictWriter(fh, fieldnames = fields) \n",
    "    writer.writeheader() \n",
    "    writer.writerows(data) "
   ]
  },
  {
   "cell_type": "code",
   "execution_count": null,
   "metadata": {},
   "outputs": [],
   "source": []
  }
 ],
 "metadata": {
  "kernelspec": {
   "display_name": "Python 3",
   "language": "python",
   "name": "python3"
  },
  "language_info": {
   "codemirror_mode": {
    "name": "ipython",
    "version": 3
   },
   "file_extension": ".py",
   "mimetype": "text/x-python",
   "name": "python",
   "nbconvert_exporter": "python",
   "pygments_lexer": "ipython3",
   "version": "3.5.6"
  }
 },
 "nbformat": 4,
 "nbformat_minor": 2
}
